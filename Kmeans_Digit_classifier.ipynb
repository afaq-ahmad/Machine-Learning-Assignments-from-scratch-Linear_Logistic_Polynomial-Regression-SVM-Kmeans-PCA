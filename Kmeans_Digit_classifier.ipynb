{
 "cells": [
  {
   "cell_type": "code",
   "execution_count": 1,
   "metadata": {},
   "outputs": [],
   "source": [
    "%matplotlib inline\n",
    "\n",
    "import numpy as np\n",
    "import matplotlib.pyplot as plt\n",
    "from sklearn import datasets\n",
    "import matplotlib.image as mpimg"
   ]
  },
  {
   "cell_type": "code",
   "execution_count": 2,
   "metadata": {},
   "outputs": [],
   "source": [
    "digits = datasets.load_digits() # load the dataset\n",
    "X = digits.data\n",
    "y = digits.target"
   ]
  },
  {
   "cell_type": "code",
   "execution_count": 3,
   "metadata": {},
   "outputs": [
    {
     "data": {
      "text/plain": [
       "(1797, 64)"
      ]
     },
     "execution_count": 3,
     "metadata": {},
     "output_type": "execute_result"
    }
   ],
   "source": [
    "X.shape"
   ]
  },
  {
   "cell_type": "code",
   "execution_count": 5,
   "metadata": {},
   "outputs": [
    {
     "data": {
      "image/png": "[encoded data removed]",
      "text/plain": [
       "<Figure size 1440x720 with 177 Axes>"
      ]
     },
     "metadata": {
      "needs_background": "light"
     },
     "output_type": "display_data"
    }
   ],
   "source": [
    "\n",
    "\n",
    "digits = datasets.load_digits() # load the dataset\n",
    "X = digits.data\n",
    "y = digits.target\n",
    "\n",
    "X4 = X[y==0]\n",
    "\n",
    "plt.figure(figsize=(20,10))\n",
    "for i in range(1,X4.shape[0]):\n",
    "    plt.subplot(9,20,i)\n",
    "    plt.imshow(X4[i].reshape(8,8),cmap='gray')\n",
    "    plt.axis('off')\n",
    "    plt.axis('equal')"
   ]
  },
  {
   "cell_type": "code",
   "execution_count": 3,
   "metadata": {},
   "outputs": [
    {
     "data": {
      "text/plain": [
       "178"
      ]
     },
     "execution_count": 3,
     "metadata": {},
     "output_type": "execute_result"
    }
   ],
   "source": [
    "X4.shape[0]"
   ]
  },
  {
   "cell_type": "code",
   "execution_count": 4,
   "metadata": {},
   "outputs": [],
   "source": [
    "def kmean(X, K):\n",
    "    \n",
    "    # your code here..\n",
    "    \n",
    "    m,n = X.shape[0], X.shape[1]\n",
    "    centroids = np.zeros((K,n))\n",
    "    #random initialization of centroids\n",
    "    \n",
    "    for i in range(K):\n",
    "        centroids[i] = X[np.random.randint(0,m),:]\n",
    " \n",
    "    for f in range(50):\n",
    "            idx = np.zeros((X.shape[0],1))\n",
    "            temp = np.zeros((centroids.shape[0],1))\n",
    "\n",
    "\n",
    "            for i in range(X.shape[0]):\n",
    "                for j in range(K):\n",
    "                    dist = X[i,:] - centroids[j,:]\n",
    "                    length = np.sum(dist**2)\n",
    "                    temp[j] = length\n",
    "                idx[i] = np.argmin(temp)+1\n",
    "                \n",
    "            #calculate J (cost)\n",
    "            J=0\n",
    "            for i in range(m):\n",
    "                index = int((idx[i]-1)[0])\n",
    "                J = J + (np.linalg.norm(X[i]-centroids[index]) ** 2)\n",
    "            \n",
    "            \n",
    "            #updating centroid\n",
    "            centroid_mean = np.zeros((K,n))\n",
    "            count = np.zeros((K,1))\n",
    "\n",
    "            for i in range(m):\n",
    "                index = int((idx[i]-1)[0])\n",
    "                centroid_mean[index,:]+=X[i,:]\n",
    "                count[index]+=1\n",
    "\n",
    "\n",
    "            C=centroid_mean/count\n",
    "            centroids=C\n",
    "    \n",
    "    \n",
    "    \n",
    "    \n",
    "    \n",
    "    \n",
    "    return  idx,C, J\n"
   ]
  },
  {
   "cell_type": "code",
   "execution_count": 5,
   "metadata": {},
   "outputs": [
    {
     "name": "stdout",
     "output_type": "stream",
     "text": [
      "False\n",
      "False\n",
      "False\n"
     ]
    }
   ],
   "source": [
    "def kmeans_repeat(X, K, N):\n",
    "    \n",
    "    # (should call 'kmeans' N times and pick the best solution)\n",
    "    \n",
    "    for k in range(K):\n",
    "        best_y, best_C, best_J = 0, 0, float('nan')\n",
    "        \n",
    "        while (np.isnan(best_J)):\n",
    "            best_y, best_C, best_J = kmean(X, k+1)   \n",
    "        print(np.isnan(best_J))\n",
    "        for n in range(N-1): # to avoid local minimum\n",
    "            y, C, J = kmean(X, k+1)\n",
    "            \n",
    "            if (J < best_J and J != 0):\n",
    "                best_y, best_C, best_J = y, C, J\n",
    "    # your code here.. \n",
    "    return best_y, best_C, best_J\n",
    "#a=X4[2].reshape(32,2)\n",
    "a=X4.reshape(int(X4.size/2),2)\n",
    "best_y, best_C, best_J=kmeans_repeat(a, 3, 1)\n",
    "    "
   ]
  },
  {
   "cell_type": "code",
   "execution_count": 6,
   "metadata": {},
   "outputs": [],
   "source": [
    "X2_recovered = a.copy()"
   ]
  },
  {
   "cell_type": "code",
   "execution_count": 10,
   "metadata": {},
   "outputs": [
    {
     "data": {
      "text/plain": [
       "(178, 64)"
      ]
     },
     "execution_count": 10,
     "metadata": {},
     "output_type": "execute_result"
    }
   ],
   "source": [
    "X4.shape"
   ]
  },
  {
   "cell_type": "code",
   "execution_count": 7,
   "metadata": {},
   "outputs": [],
   "source": [
    "for i in range(1,3+1):\n",
    "    X2_recovered[(best_y==i).ravel(),:] = i"
   ]
  },
  {
   "cell_type": "code",
   "execution_count": 11,
   "metadata": {},
   "outputs": [],
   "source": [
    "recovered=X2_recovered.reshape(X4.shape[0],64)"
   ]
  },
  {
   "cell_type": "code",
   "execution_count": 14,
   "metadata": {},
   "outputs": [
    {
     "data": {
      "image/png": "[encoded data removed]",
      "text/plain": [
       "<Figure size 1440x720 with 177 Axes>"
      ]
     },
     "metadata": {},
     "output_type": "display_data"
    }
   ],
   "source": [
    "plt.figure(figsize=(20,10))\n",
    "for i in range(1,X4.shape[0]):\n",
    "    plt.subplot(9,20,i)\n",
    "    plt.imshow(recovered[i].reshape(8,8),cmap='gray')\n",
    "    plt.axis('off')\n",
    "    plt.axis('equal')\n",
    "    #plt.scatter(best_C[:,0],best_C[:,1],s=120,marker=\"x\",c=\"black\",linewidth=3)"
   ]
  },
  {
   "cell_type": "code",
   "execution_count": null,
   "metadata": {},
   "outputs": [],
   "source": []
  }
 ],
 "metadata": {
  "kernelspec": {
   "display_name": "Python 3",
   "language": "python",
   "name": "python3"
  },
  "language_info": {
   "codemirror_mode": {
    "name": "ipython",
    "version": 3
   },
   "file_extension": ".py",
   "mimetype": "text/x-python",
   "name": "python",
   "nbconvert_exporter": "python",
   "pygments_lexer": "ipython3",
   "version": "3.6.7"
  }
 },
 "nbformat": 4,
 "nbformat_minor": 2
}
